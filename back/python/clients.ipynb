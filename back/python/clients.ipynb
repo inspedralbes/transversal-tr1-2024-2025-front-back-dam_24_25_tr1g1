{
 "cells": [
  {
   "cell_type": "code",
   "execution_count": 3,
   "id": "808fe116",
   "metadata": {},
   "outputs": [
    {
     "name": "stdout",
     "output_type": "stream",
     "text": [
      "El archivo CSV se ha guardado en: ./output\\clientes_estadisticas.csv\n"
     ]
    }
   ],
   "source": [
    "import requests\n",
    "import pandas as pd\n",
    "import os\n",
    "\n",
    "\n",
    "output_dir = \"./output\"  \n",
    "\n",
    "if not os.path.exists(output_dir):\n",
    "    os.makedirs(output_dir)\n",
    "\n",
    "url = \"http://localhost:26968/clientes\"  \n",
    "\n",
    "response = requests.get(url)\n",
    "if response.status_code == 200:\n",
    "    data = response.json()\n",
    "else:\n",
    "    print(\"Error al conectar con la API\")\n",
    "    data = None\n",
    "\n",
    "if data and \"usuaris\" in data:\n",
    "    processed_data = []\n",
    "\n",
    "    # Procesar cada usuario en la respuesta JSON\n",
    "    for usuario in data[\"usuaris\"]:\n",
    "        id_cliente = usuario[\"ID\"]\n",
    "        nombre_cliente = usuario[\"Clients\"]\n",
    "        num_ventas = usuario[\"Ventes\"]\n",
    "        \n",
    "        diners_total = float(usuario[\"Diners\"]) if usuario[\"Diners\"] is not None else 0.0\n",
    "\n",
    "        diners_venda = diners_total / num_ventas if num_ventas > 0 else 0.0\n",
    "\n",
    "        # Crear un diccionario para almacenar el cliente procesado\n",
    "        cliente_data = {\n",
    "            \"ID\": id_cliente,\n",
    "            \"Clients\": nombre_cliente,\n",
    "            \"Ventes\": num_ventas,\n",
    "            \"Diners\": diners_total,\n",
    "            \"Diners/venda\": round(diners_venda, 1),  \n",
    "            \"Moneda\": \"€\"\n",
    "        }\n",
    "\n",
    "        # Añadir el cliente procesado a la lista\n",
    "        processed_data.append(cliente_data)\n",
    "\n",
    "    # Crear un DataFrame de Pandas con los datos procesados\n",
    "    df = pd.DataFrame(processed_data)\n",
    "    \n",
    "    # Formatear y mostrar el DataFrame\n",
    "    df.style.set_properties(**{'text-align': 'center'})\n",
    "    df.set_index('ID', inplace=True)  \n",
    "    \n",
    "    # Guardar el DataFrame como un archivo CSV en el directorio de salida\n",
    "    output_file = os.path.join(output_dir, \"clientes_estadisticas.csv\")\n",
    "    df.to_csv(output_file, index=True)\n",
    "\n",
    "    print(f\"El archivo CSV se ha guardado en: {output_file}\")\n",
    "else:\n",
    "    print(\"No se pudieron obtener datos de clientes.\")\n"
   ]
  },
  {
   "cell_type": "code",
   "execution_count": null,
   "id": "b79fb7f5",
   "metadata": {},
   "outputs": [],
   "source": []
  }
 ],
 "metadata": {
  "kernelspec": {
   "display_name": "Python 3",
   "language": "python",
   "name": "python3"
  },
  "language_info": {
   "codemirror_mode": {
    "name": "ipython",
    "version": 3
   },
   "file_extension": ".py",
   "mimetype": "text/x-python",
   "name": "python",
   "nbconvert_exporter": "python",
   "pygments_lexer": "ipython3",
   "version": "3.12.7"
  }
 },
 "nbformat": 4,
 "nbformat_minor": 5
}
